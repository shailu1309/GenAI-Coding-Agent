{
 "cells": [
  {
   "cell_type": "markdown",
   "metadata": {},
   "source": [
    "## GenAI Github Coding Assistant\n",
    "\n",
    "This file is used for testing out the code in developing features for the Github Coding Assistant.\n",
    "\n",
    "`1. github_api_calls.py`: This script contains functions for making API calls to Github."
   ]
  },
  {
   "cell_type": "code",
   "execution_count": 10,
   "metadata": {},
   "outputs": [],
   "source": [
    "import os\n",
    "import requests\n",
    "from dotenv import load_dotenv\n",
    "from langchain_core.documents import Document\n",
    "import re"
   ]
  },
  {
   "cell_type": "code",
   "execution_count": 11,
   "metadata": {},
   "outputs": [],
   "source": [
    "load_dotenv()\n",
    "github_token = os.getenv('GITHUB_TOKEN')"
   ]
  },
  {
   "cell_type": "code",
   "execution_count": 12,
   "metadata": {},
   "outputs": [],
   "source": [
    "def fetch_github(owner, repo, endpoint):\n",
    "    url = f\"https://api.github.com/repos/{owner}/{repo}/{endpoint}\"\n",
    "    headers = {\n",
    "        \"Authorization\": f\"Bearer {github_token}\"\n",
    "        }\n",
    "    response = requests.get(url, headers=headers)\n",
    "    \n",
    "    if response.status_code == 200:\n",
    "        print(f\"Fetched data from Github: {url}\")\n",
    "        return response.json()\n",
    "    else:\n",
    "        print(f\"Error fetching data from Github: {response.status_code}\")\n",
    "        return []\n",
    "    \n",
    "#preprocess issues data to ensure uniform encoding format\n",
    "\n",
    "    \n",
    "# get results from fetch_github function and wrap them in a langchain Document\n",
    "def load_issues(issues):\n",
    "    docs = []\n",
    "    for issue_num in range(len(issues)):\n",
    "        metadata = {\n",
    "            \"author\": issues[issue_num][\"user\"][\"login\"],\n",
    "            \"comments\": issues[issue_num][\"comments\"],\n",
    "            \"body\": issues[issue_num][\"body\"],\n",
    "            \"labels\": issues[issue_num][\"labels\"],\n",
    "            \"created_at\": issues[issue_num][\"created_at\"]\n",
    "        }\n",
    "        data = issues[issue_num][\"title\"] \n",
    "        if issues[issue_num][\"body\"]:\n",
    "            data += issues[issue_num][\"body\"]\n",
    "            \n",
    "        # Decode the data to ensure consistency and avoid encoding issues\n",
    "        data = data.encode('utf-8').decode('utf-8')\n",
    "        \n",
    "        doc = Document(page_content=data, metadata=metadata)\n",
    "        docs.append(doc)\n",
    "             \n",
    "    return docs\n",
    "\n",
    "def test_load_github(test_data):\n",
    "    metadata = {\n",
    "    \"author\": \"Test Author\",\n",
    "    \"comments\": \"Test Comments\",\n",
    "    \"body\": \"Test Body\",\n",
    "    \"labels\": [\"label1\"],\n",
    "    \"created_at\": \"2024-08-24T11:14:00Z\"\n",
    "    }\n",
    "    doc = Document(page_content=test_data, metadata=metadata)\n",
    "    print(doc)"
   ]
  },
  {
   "cell_type": "code",
   "execution_count": 13,
   "metadata": {},
   "outputs": [
    {
     "name": "stdout",
     "output_type": "stream",
     "text": [
      "page_content='This is a simple test document with basic text content.' metadata={'author': 'Test Author', 'comments': 'Test Comments', 'body': 'Test Body', 'labels': ['label1'], 'created_at': '2024-08-24T11:14:00Z'}\n"
     ]
    }
   ],
   "source": [
    "test_data = \"This is a simple test document with basic text content.\"\n",
    "test_load_github(test_data)"
   ]
  },
  {
   "cell_type": "code",
   "execution_count": 14,
   "metadata": {},
   "outputs": [],
   "source": [
    "def clean_text(text):\n",
    "    \"\"\"\n",
    "    Clean a given text by removing non-printable characters and normalizing whitespace.\n",
    "    1. Removes non-ASCII characters, which may cause encoding issues.\n",
    "    2. Normalizes whitespace by replacing multiple spaces with a single space.\n",
    "    3. Strips leading and trailing whitespace for consistency.\n",
    "    4. Removes urls as they can introduce security vulnerabilities & formatting issues.\n",
    "    5. Removes image markdowns, which are unnecessary for this task.\n",
    "    \"\"\"\n",
    "    \n",
    "    if not isinstance(text, str):  \n",
    "        text = str(text)  \n",
    "    # Remove non-printable characters and excessive whitespace\n",
    "    text = re.sub(r'[^\\x00-\\x7F]+', ' ', text)  # Remove non-ASCII characters\n",
    "    text = re.sub(r'\\s+', ' ', text)  # Replace multiple whitespace with single space\n",
    "    text = re.sub(r'!\\[.*?\\]\\(.*?\\)', '', text)  # Remove image markdowns\n",
    "    text = re.sub(r'https?://\\S+', '', text)  # Remove URLs\n",
    "    \n",
    "    return text.strip()\n",
    "\n",
    "\n",
    "def clean_issues_data(issues):\n",
    "    \"\"\"\n",
    "    Clean the issues data to ensure proper encoding and formatting.\n",
    "    1. Converts data to strings and strips any leading or trailing whitespace.\n",
    "    2. Ensures the comments field is an integer, avoiding issues with non-integer data.\n",
    "    3. Cleans up the body and title fields using the clean_text function.\n",
    "    \"\"\"\n",
    "    cleaned_issues = []\n",
    "    for issue in issues:\n",
    "        cleaned_issue = {}\n",
    "        \n",
    "        # Extract and clean metadata\n",
    "        cleaned_issue[\"user\"] = {\n",
    "            \"login\": str(issue.get(\"user\", {}).get(\"login\", \"\")).strip()\n",
    "        }\n",
    "        cleaned_issue[\"comments\"] = int(issue.get(\"comments\", 0))\n",
    "        cleaned_issue[\"body\"] = str(issue.get(\"body\", \"\")).strip()\n",
    "        cleaned_issue[\"labels\"] = [str(label).strip() for label in issue.get(\"labels\", [])]\n",
    "        cleaned_issue[\"created_at\"] = str(issue.get(\"created_at\", \"\")).strip()\n",
    "\n",
    "        # Clean title and body\n",
    "        cleaned_issue[\"title\"] = str(issue.get(\"title\", \"\")).strip()\n",
    "        cleaned_issue[\"body\"] = clean_text(issue.get(\"body\", \"\"))\n",
    "\n",
    "        cleaned_issues.append(cleaned_issue)\n",
    "    \n",
    "    return cleaned_issues\n"
   ]
  },
  {
   "cell_type": "code",
   "execution_count": 15,
   "metadata": {},
   "outputs": [
    {
     "name": "stdout",
     "output_type": "stream",
     "text": [
      "Fetched data from Github: https://api.github.com/repos/techwithtim/Flask-Web-App-Tutorial/issues\n"
     ]
    }
   ],
   "source": [
    "git_result = fetch_github(owner=\"techwithtim\",\n",
    "                    repo=\"Flask-Web-App-Tutorial\", \n",
    "                    endpoint=\"issues\")"
   ]
  },
  {
   "cell_type": "code",
   "execution_count": 16,
   "metadata": {},
   "outputs": [
    {
     "data": {
      "text/plain": [
       "{'user': {'login': 'Abstargo'},\n",
       " 'comments': 0,\n",
       " 'body': \"ValueError: Invalid hash method 'sha256'. ``` new_user = User(email=email, first_name=first_name, password=generate_password_hash( password1, method='sha256')) ```\",\n",
       " 'labels': [],\n",
       " 'created_at': '2024-08-24T11:14:00Z',\n",
       " 'title': 'Update auth.py'}"
      ]
     },
     "execution_count": 16,
     "metadata": {},
     "output_type": "execute_result"
    }
   ],
   "source": [
    "cleaned_issues = clean_issues_data(git_result)\n",
    "cleaned_issues[0]"
   ]
  },
  {
   "cell_type": "code",
   "execution_count": 17,
   "metadata": {},
   "outputs": [],
   "source": [
    "doc_results = load_issues(cleaned_issues)"
   ]
  },
  {
   "cell_type": "code",
   "execution_count": 18,
   "metadata": {},
   "outputs": [
    {
     "data": {
      "text/plain": [
       "Document(page_content='Database not being created.Code: \"from flask import Flask from flask_sqlalchemy import SQLAlchemy from os import path db = SQLAlchemy() DB_NAME = \"CSIA.db\" def create_app(): app = Flask(__name__) app.config[\\'SECRET_KEY\\'] = \\'www\\' app.config[\\'SQLALCHEMY_DATABASE_URI\\'] = f\\'sqlite:///{DB_NAME}\\' db.init_app(app) from .views import views from .auth import auth app.register_blueprint(views, url_prefix=\\'/\\') app.register_blueprint(auth, url_prefix=\\'/\\') from .models import Admin, Employees, Product, Order, OrderItem, InventoryPage, Supplier create_database(app) with app.app_context(): db.create_all() return app def create_database(app): if not path.exists(\\'Website/\\' + DB_NAME): db.create_all(app=app) print(\\'Created Database!\\') \" Error: \"S D:\\\\MY PC\\\\Documents\\\\> & \"C:/Program Files/Python312/python.exe\" \"d:/MY PC/Documents/main.py\" Traceback (most recent call last): File \"d:\\\\MY PC\\\\Documents\\\\main.py\", line 3, in <module> app = create_app() ^^^^^^^^^^^^ File \"d:\\\\MY PC\\\\Documents\\\\Website\\\\__init__.py\", line 22, in create_app create_database(app) File \"d:\\\\MY PC\\\\Documents\\\\Website\\\\__init__.py\", line 30, in create_database db.create_all(app=app) TypeError: SQLAlchemy.create_all() got an unexpected keyword argument \\'app\\'\"', metadata={'author': 'ScalvyC', 'comments': 0, 'body': 'Code: \"from flask import Flask from flask_sqlalchemy import SQLAlchemy from os import path db = SQLAlchemy() DB_NAME = \"CSIA.db\" def create_app(): app = Flask(__name__) app.config[\\'SECRET_KEY\\'] = \\'www\\' app.config[\\'SQLALCHEMY_DATABASE_URI\\'] = f\\'sqlite:///{DB_NAME}\\' db.init_app(app) from .views import views from .auth import auth app.register_blueprint(views, url_prefix=\\'/\\') app.register_blueprint(auth, url_prefix=\\'/\\') from .models import Admin, Employees, Product, Order, OrderItem, InventoryPage, Supplier create_database(app) with app.app_context(): db.create_all() return app def create_database(app): if not path.exists(\\'Website/\\' + DB_NAME): db.create_all(app=app) print(\\'Created Database!\\') \" Error: \"S D:\\\\MY PC\\\\Documents\\\\> & \"C:/Program Files/Python312/python.exe\" \"d:/MY PC/Documents/main.py\" Traceback (most recent call last): File \"d:\\\\MY PC\\\\Documents\\\\main.py\", line 3, in <module> app = create_app() ^^^^^^^^^^^^ File \"d:\\\\MY PC\\\\Documents\\\\Website\\\\__init__.py\", line 22, in create_app create_database(app) File \"d:\\\\MY PC\\\\Documents\\\\Website\\\\__init__.py\", line 30, in create_database db.create_all(app=app) TypeError: SQLAlchemy.create_all() got an unexpected keyword argument \\'app\\'\"', 'labels': [], 'created_at': '2024-07-24T10:52:29Z'})"
      ]
     },
     "execution_count": 18,
     "metadata": {},
     "output_type": "execute_result"
    }
   ],
   "source": [
    "doc_results[1]"
   ]
  },
  {
   "cell_type": "markdown",
   "metadata": {},
   "source": [
    "#### Further Improvements in cleaning text:\n",
    "\n",
    "`Whitespace and Formatting:`\n",
    "\n",
    "The text could benefit from better formatting, such as spacing and indentation, especially for code snippets. This will improve readability and help distinguish different parts of the text.\n",
    "\n",
    "`Markdown Handling:`\n",
    "\n",
    "If you are dealing with markdown or code blocks, it is useful to convert them into a format that is easy to read and understand.\n",
    "\n",
    "`Cleaning Code Snippets:`\n",
    "\n",
    "If code snippets are part of the text, ensure they are properly formatted and indented. For example, newlines and indentation in code blocks should be preserved or made consistent.\n",
    "\n",
    "`Consistency and Readability:`\n",
    "\n",
    "Ensure that the text is consistent and easily readable. For example, handling apostrophes correctly, ensuring proper punctuation, and avoiding overly long lines."
   ]
  },
  {
   "cell_type": "markdown",
   "metadata": {},
   "source": []
  },
  {
   "cell_type": "code",
   "execution_count": 19,
   "metadata": {},
   "outputs": [],
   "source": [
    "# the loaded issues ie., the text wrapped as langchain docs should be stored in vector DB\n",
    "# connect to vector Db & save Docs\n",
    "# additional imports\n",
    "from langchain_openai import ChatOpenAI, OpenAIEmbeddings\n",
    "from langchain_astradb import AstraDBVectorStore\n",
    "from langchain.agents import create_tool_calling_agent\n",
    "from langchain.agents import AgentExecutor\n",
    "from langchain.tools.retriever import create_retriever_tool\n",
    "from langchain import hub"
   ]
  },
  {
   "cell_type": "code",
   "execution_count": null,
   "metadata": {},
   "outputs": [],
   "source": []
  },
  {
   "cell_type": "code",
   "execution_count": 20,
   "metadata": {},
   "outputs": [],
   "source": [
    "def connect_to_vector_db():\n",
    "    \"\"\"\n",
    "    Create embeddings ie., cnvert documents to vectors\n",
    "    and connect to astra db and save the embedded documents.\n",
    "    \"\"\"\n",
    "    embeddings = OpenAIEmbeddings()\n",
    "    ASTRA_DB_API_ENDPOINT = os.getenv('ASTRA_DB_API_ENDPOINT')\n",
    "    ASTRA_DB_APPLICATION_TOKEN = os.getenv('ASTRA_DB_APPLICATION_TOKEN')\n",
    "    DESIRED_NAMESPACE = os.getenv('ASTRA_DB_KEYSPACE')\n",
    "    \n",
    "    if DESIRED_NAMESPACE:\n",
    "        ASTRA_DB_KEYSPACE = DESIRED_NAMESPACE\n",
    "    else:\n",
    "        ASTRA_DB_KEYSPACE = None\n",
    "    \n",
    "    vstore = AstraDBVectorStore(\n",
    "        embedding=embeddings,\n",
    "        collection_name=\"github_issues\", # creates a collection if it doesn't exist\n",
    "        api_endpoint=ASTRA_DB_API_ENDPOINT,\n",
    "        token=ASTRA_DB_APPLICATION_TOKEN,\n",
    "        namespace=ASTRA_DB_KEYSPACE   \n",
    "    )\n",
    "    return vstore"
   ]
  },
  {
   "cell_type": "code",
   "execution_count": 15,
   "metadata": {},
   "outputs": [],
   "source": [
    "# prompt user for input if the issues need to be updated\n",
    "# add_to_vectorstore = input(\"Do you want to update the issues? (y/N): \").lower() in [\n",
    "#     \"yes\",\n",
    "#     \"y\",\n",
    "# ]"
   ]
  },
  {
   "cell_type": "code",
   "execution_count": 21,
   "metadata": {},
   "outputs": [
    {
     "name": "stdout",
     "output_type": "stream",
     "text": [
      "FLASH MESSAGES NOT SHOWING IN LOGIN PAGEmy auth.py and login.html file doesnt haave any error. the signup page flash messages work but login page flash messages are not showing. and even after pressing login button nothing happens. plss help\n",
      "Alert message in home pageHi there, So as I'm following the video as typing the code i got into the login_requried mode in views.py. As i put the @login_required in views.route as Tim showed, and in the others routes, as put the user= current user as well, when i go to the site it appears the alert message that i need to login to access the page  When I refresh the page the alert disappears but it shoulndt be there in the first place.\n",
      "Flask Web Dev courseNone\n"
     ]
    }
   ],
   "source": [
    "update_vstore = True\n",
    "\n",
    "if update_vstore:\n",
    "    \n",
    "    owner=\"techwithtim\"\n",
    "    repo=\"Flask-Web-App-Tutorial\"\n",
    "    vstore = connect_to_vector_db()\n",
    "    # issue_docs = load_issues(cleaned_issues)\n",
    "    \n",
    "    try:\n",
    "        vstore.delete_collection(\"github_issues\")  # delete existing collection if it exists)  # delete existing collection if it exists\n",
    "    except:\n",
    "        pass\n",
    "    \n",
    "    vstore.add_documents(doc_results)\n",
    "    \n",
    "    #retreving/ vector lookup of some docs for tetsing\n",
    "    results = vstore.similarity_search(\"Flash messages\", k=3)\n",
    "    \n",
    "    for res in results:\n",
    "        print(f\"{res.page_content}\")\n",
    "    "
   ]
  },
  {
   "cell_type": "markdown",
   "metadata": {},
   "source": [
    "### Define an agent\n",
    "\n",
    "How to define a tool:\n",
    "- provide name for the tool\n",
    "- provide a description\n",
    "- when to use the tool -> in the form of a promt\n",
    "\n",
    "Set up a chain of prompts that tell the AI/GPT to use the tool when appropriate. To do this we can use langchain hub to download stuff that can automatically use the tool when it feels appropriate.\n",
    "\n",
    "Python functions as tools:\n",
    "\n",
    "- Doc string description for a function works as a prompt that the AI/GPT will use when it thinks it's appropriate to use the tool.\n",
    "- Name of the tool will be the function name\n",
    "- Decorator @tool lets the function be treated as a langchain tool to our agent\n"
   ]
  },
  {
   "cell_type": "code",
   "execution_count": 24,
   "metadata": {},
   "outputs": [
    {
     "name": "stdout",
     "output_type": "stream",
     "text": [
      "\n",
      "\n",
      "\u001b[1m> Entering new AgentExecutor chain...\u001b[0m\n",
      "\u001b[32;1m\u001b[1;3m\n",
      "Invoking: `github_issue_search` with `{'query': 'repo:smirnov-am/flask-web-app-tutorial is:issue'}`\n",
      "\n",
      "\n",
      "\u001b[0m\u001b[36;1m\u001b[1;3mFlask Web Dev courseNone\n",
      "\n",
      "Flask Web Dev courseNone\n",
      "\n",
      "Error in getting the url address after the installation of pipHi I came across your contents when searching on how to learn a python. Your information about on develop \"Flask Web App Tutorial\" are very fantabulous and seriously educative. Thank you for impact your knowledge positively Please i have some issues when following your tutorial and the issue is that , i can't generate how you get the url address  from the terminal after debug. Although , i am very new to python programming language. Please help me on how to rectify the issue. Thank you\u001b[0m\u001b[32;1m\u001b[1;3mThe most common issue in the Flask-Web-App-Tutorial repository seems to be related to getting the URL address after the installation of pip. Users have reported difficulties in generating the URL address from the terminal after debugging.\u001b[0m\n",
      "\n",
      "\u001b[1m> Finished chain.\u001b[0m\n",
      "The most common issue in the Flask-Web-App-Tutorial repository seems to be related to getting the URL address after the installation of pip. Users have reported difficulties in generating the URL address from the terminal after debugging.\n"
     ]
    }
   ],
   "source": [
    "# Writing the agent - we need to provide the vector store db as a toold to the agent and it can decide when to use it \n",
    "# need to wrap the vstore in a retriever tool\n",
    "# another tool a function that allows us to save a note\n",
    "\n",
    "from langchain.tools.retriever import create_retriever_tool\n",
    "from langchain.agents import create_tool_calling_agent\n",
    "from langchain.agents import AgentExecutor\n",
    "from langchain import hub\n",
    "\n",
    "vstore = connect_to_vector_db()\n",
    "retriever = vstore.as_retriever(search_kwargs={\"k\": 3})\n",
    "retriever_tool = create_retriever_tool(retriever,\n",
    "                                       \"github_issue_search\",\n",
    "                                       \"Search for information about github issued.\"\\\n",
    "                                       \"For any related to github issues you must use this tool.\")\n",
    "\n",
    "prompt = hub.pull(\"hwchase17/openai-functions-agent\")\n",
    "# create an llm that can use these tools\n",
    "llm = ChatOpenAI(temperature=0.3, max_tokens=1000)\n",
    "\n",
    "tools = [retriever_tool]\n",
    "agent = create_tool_calling_agent(llm, tools, prompt)\n",
    "agent_executor = AgentExecutor(agent=agent, tools=tools, verbose=True)\n",
    "\n",
    "# use the agent executor in a loop to ask questions\n",
    "\n",
    "test_question = \"What is the most common issue in Flask-Web-App-Tutorial?\"\n",
    "test_result = agent_executor.invoke({\"input\":test_question})\n",
    "print(test_result[\"output\"])\n",
    "\n",
    "# while (question := input(\"Ask a question about github issues (q to quit): \"))!= \"q\":\n",
    "#     result = agent_executor.invoke({\"input\":question})\n",
    "#     print(result{\"output\"})"
   ]
  },
  {
   "cell_type": "code",
   "execution_count": 28,
   "metadata": {},
   "outputs": [
    {
     "name": "stdout",
     "output_type": "stream",
     "text": [
      "\n",
      "\n",
      "\u001b[1m> Entering new AgentExecutor chain...\u001b[0m\n",
      "\u001b[32;1m\u001b[1;3m\n",
      "Invoking: `github_issue_search` with `{'query': 'SQLAlchemy'}`\n",
      "\n",
      "\n",
      "\u001b[0m\u001b[36;1m\u001b[1;3mDatabase not being created.Code: \"from flask import Flask from flask_sqlalchemy import SQLAlchemy from os import path db = SQLAlchemy() DB_NAME = \"CSIA.db\" def create_app(): app = Flask(__name__) app.config['SECRET_KEY'] = 'www' app.config['SQLALCHEMY_DATABASE_URI'] = f'sqlite:///{DB_NAME}' db.init_app(app) from .views import views from .auth import auth app.register_blueprint(views, url_prefix='/') app.register_blueprint(auth, url_prefix='/') from .models import Admin, Employees, Product, Order, OrderItem, InventoryPage, Supplier create_database(app) with app.app_context(): db.create_all() return app def create_database(app): if not path.exists('Website/' + DB_NAME): db.create_all(app=app) print('Created Database!') \" Error: \"S D:\\MY PC\\Documents\\> & \"C:/Program Files/Python312/python.exe\" \"d:/MY PC/Documents/main.py\" Traceback (most recent call last): File \"d:\\MY PC\\Documents\\main.py\", line 3, in <module> app = create_app() ^^^^^^^^^^^^ File \"d:\\MY PC\\Documents\\Website\\__init__.py\", line 22, in create_app create_database(app) File \"d:\\MY PC\\Documents\\Website\\__init__.py\", line 30, in create_database db.create_all(app=app) TypeError: SQLAlchemy.create_all() got an unexpected keyword argument 'app'\"\n",
      "\n",
      "Database not being created.Code: \"from flask import Flask from flask_sqlalchemy import SQLAlchemy from os import path db = SQLAlchemy() DB_NAME = \"CSIA.db\" def create_app(): app = Flask(__name__) app.config['SECRET_KEY'] = 'www' app.config['SQLALCHEMY_DATABASE_URI'] = f'sqlite:///{DB_NAME}' db.init_app(app) from .views import views from .auth import auth app.register_blueprint(views, url_prefix='/') app.register_blueprint(auth, url_prefix='/') from .models import Admin, Employees, Product, Order, OrderItem, InventoryPage, Supplier create_database(app) with app.app_context(): db.create_all() return app def create_database(app): if not path.exists('Website/' + DB_NAME): db.create_all(app=app) print('Created Database!') \" Error: \"S D:\\MY PC\\Documents\\> & \"C:/Program Files/Python312/python.exe\" \"d:/MY PC/Documents/main.py\" Traceback (most recent call last): File \"d:\\MY PC\\Documents\\main.py\", line 3, in <module> app = create_app() ^^^^^^^^^^^^ File \"d:\\MY PC\\Documents\\Website\\__init__.py\", line 22, in create_app create_database(app) File \"d:\\MY PC\\Documents\\Website\\__init__.py\", line 30, in create_database db.create_all(app=app) TypeError: SQLAlchemy.create_all() got an unexpected keyword argument 'app'\"\n",
      "\n",
      "Flask Web Dev courseNone\u001b[0m\u001b[32;1m\u001b[1;3m\n",
      "Invoking: `note_tool` with `{'note': \"Issue related to SQLAlchemy: Database not being created due to unexpected keyword argument 'app' in SQLAlchemy.create_all() function.\"}`\n",
      "\n",
      "\n",
      "\u001b[0m"
     ]
    },
    {
     "ename": "NotADirectoryError",
     "evalue": "[Errno 20] Not a directory: '/Users/sjr11/Work/SelfLearning/GenAI Coding Agent/data/processed/notes.txt/note_20240824_220537.txt'",
     "output_type": "error",
     "traceback": [
      "\u001b[0;31m---------------------------------------------------------------------------\u001b[0m",
      "\u001b[0;31mNotADirectoryError\u001b[0m                        Traceback (most recent call last)",
      "Cell \u001b[0;32mIn[28], line 33\u001b[0m\n\u001b[1;32m     30\u001b[0m \u001b[38;5;66;03m# use the agent executor in a loop to ask questions\u001b[39;00m\n\u001b[1;32m     32\u001b[0m test_question \u001b[38;5;241m=\u001b[39m \u001b[38;5;124m\"\u001b[39m\u001b[38;5;124mFind issues related to sql alchemy, summarise them and make a note of them\u001b[39m\u001b[38;5;124m\"\u001b[39m\n\u001b[0;32m---> 33\u001b[0m test_result \u001b[38;5;241m=\u001b[39m \u001b[43magent_executor\u001b[49m\u001b[38;5;241;43m.\u001b[39;49m\u001b[43minvoke\u001b[49m\u001b[43m(\u001b[49m\u001b[43m{\u001b[49m\u001b[38;5;124;43m\"\u001b[39;49m\u001b[38;5;124;43minput\u001b[39;49m\u001b[38;5;124;43m\"\u001b[39;49m\u001b[43m:\u001b[49m\u001b[43mtest_question\u001b[49m\u001b[43m}\u001b[49m\u001b[43m)\u001b[49m\n\u001b[1;32m     34\u001b[0m \u001b[38;5;28mprint\u001b[39m(test_result[\u001b[38;5;124m\"\u001b[39m\u001b[38;5;124moutput\u001b[39m\u001b[38;5;124m\"\u001b[39m])\n",
      "File \u001b[0;32m~/miniconda3/envs/env_genai_agent/lib/python3.10/site-packages/langchain/chains/base.py:163\u001b[0m, in \u001b[0;36mChain.invoke\u001b[0;34m(self, input, config, **kwargs)\u001b[0m\n\u001b[1;32m    161\u001b[0m \u001b[38;5;28;01mexcept\u001b[39;00m \u001b[38;5;167;01mBaseException\u001b[39;00m \u001b[38;5;28;01mas\u001b[39;00m e:\n\u001b[1;32m    162\u001b[0m     run_manager\u001b[38;5;241m.\u001b[39mon_chain_error(e)\n\u001b[0;32m--> 163\u001b[0m     \u001b[38;5;28;01mraise\u001b[39;00m e\n\u001b[1;32m    164\u001b[0m run_manager\u001b[38;5;241m.\u001b[39mon_chain_end(outputs)\n\u001b[1;32m    166\u001b[0m \u001b[38;5;28;01mif\u001b[39;00m include_run_info:\n",
      "File \u001b[0;32m~/miniconda3/envs/env_genai_agent/lib/python3.10/site-packages/langchain/chains/base.py:153\u001b[0m, in \u001b[0;36mChain.invoke\u001b[0;34m(self, input, config, **kwargs)\u001b[0m\n\u001b[1;32m    150\u001b[0m \u001b[38;5;28;01mtry\u001b[39;00m:\n\u001b[1;32m    151\u001b[0m     \u001b[38;5;28mself\u001b[39m\u001b[38;5;241m.\u001b[39m_validate_inputs(inputs)\n\u001b[1;32m    152\u001b[0m     outputs \u001b[38;5;241m=\u001b[39m (\n\u001b[0;32m--> 153\u001b[0m         \u001b[38;5;28;43mself\u001b[39;49m\u001b[38;5;241;43m.\u001b[39;49m\u001b[43m_call\u001b[49m\u001b[43m(\u001b[49m\u001b[43minputs\u001b[49m\u001b[43m,\u001b[49m\u001b[43m \u001b[49m\u001b[43mrun_manager\u001b[49m\u001b[38;5;241;43m=\u001b[39;49m\u001b[43mrun_manager\u001b[49m\u001b[43m)\u001b[49m\n\u001b[1;32m    154\u001b[0m         \u001b[38;5;28;01mif\u001b[39;00m new_arg_supported\n\u001b[1;32m    155\u001b[0m         \u001b[38;5;28;01melse\u001b[39;00m \u001b[38;5;28mself\u001b[39m\u001b[38;5;241m.\u001b[39m_call(inputs)\n\u001b[1;32m    156\u001b[0m     )\n\u001b[1;32m    158\u001b[0m     final_outputs: Dict[\u001b[38;5;28mstr\u001b[39m, Any] \u001b[38;5;241m=\u001b[39m \u001b[38;5;28mself\u001b[39m\u001b[38;5;241m.\u001b[39mprep_outputs(\n\u001b[1;32m    159\u001b[0m         inputs, outputs, return_only_outputs\n\u001b[1;32m    160\u001b[0m     )\n\u001b[1;32m    161\u001b[0m \u001b[38;5;28;01mexcept\u001b[39;00m \u001b[38;5;167;01mBaseException\u001b[39;00m \u001b[38;5;28;01mas\u001b[39;00m e:\n",
      "File \u001b[0;32m~/miniconda3/envs/env_genai_agent/lib/python3.10/site-packages/langchain/agents/agent.py:1432\u001b[0m, in \u001b[0;36mAgentExecutor._call\u001b[0;34m(self, inputs, run_manager)\u001b[0m\n\u001b[1;32m   1430\u001b[0m \u001b[38;5;66;03m# We now enter the agent loop (until it returns something).\u001b[39;00m\n\u001b[1;32m   1431\u001b[0m \u001b[38;5;28;01mwhile\u001b[39;00m \u001b[38;5;28mself\u001b[39m\u001b[38;5;241m.\u001b[39m_should_continue(iterations, time_elapsed):\n\u001b[0;32m-> 1432\u001b[0m     next_step_output \u001b[38;5;241m=\u001b[39m \u001b[38;5;28;43mself\u001b[39;49m\u001b[38;5;241;43m.\u001b[39;49m\u001b[43m_take_next_step\u001b[49m\u001b[43m(\u001b[49m\n\u001b[1;32m   1433\u001b[0m \u001b[43m        \u001b[49m\u001b[43mname_to_tool_map\u001b[49m\u001b[43m,\u001b[49m\n\u001b[1;32m   1434\u001b[0m \u001b[43m        \u001b[49m\u001b[43mcolor_mapping\u001b[49m\u001b[43m,\u001b[49m\n\u001b[1;32m   1435\u001b[0m \u001b[43m        \u001b[49m\u001b[43minputs\u001b[49m\u001b[43m,\u001b[49m\n\u001b[1;32m   1436\u001b[0m \u001b[43m        \u001b[49m\u001b[43mintermediate_steps\u001b[49m\u001b[43m,\u001b[49m\n\u001b[1;32m   1437\u001b[0m \u001b[43m        \u001b[49m\u001b[43mrun_manager\u001b[49m\u001b[38;5;241;43m=\u001b[39;49m\u001b[43mrun_manager\u001b[49m\u001b[43m,\u001b[49m\n\u001b[1;32m   1438\u001b[0m \u001b[43m    \u001b[49m\u001b[43m)\u001b[49m\n\u001b[1;32m   1439\u001b[0m     \u001b[38;5;28;01mif\u001b[39;00m \u001b[38;5;28misinstance\u001b[39m(next_step_output, AgentFinish):\n\u001b[1;32m   1440\u001b[0m         \u001b[38;5;28;01mreturn\u001b[39;00m \u001b[38;5;28mself\u001b[39m\u001b[38;5;241m.\u001b[39m_return(\n\u001b[1;32m   1441\u001b[0m             next_step_output, intermediate_steps, run_manager\u001b[38;5;241m=\u001b[39mrun_manager\n\u001b[1;32m   1442\u001b[0m         )\n",
      "File \u001b[0;32m~/miniconda3/envs/env_genai_agent/lib/python3.10/site-packages/langchain/agents/agent.py:1138\u001b[0m, in \u001b[0;36mAgentExecutor._take_next_step\u001b[0;34m(self, name_to_tool_map, color_mapping, inputs, intermediate_steps, run_manager)\u001b[0m\n\u001b[1;32m   1129\u001b[0m \u001b[38;5;28;01mdef\u001b[39;00m \u001b[38;5;21m_take_next_step\u001b[39m(\n\u001b[1;32m   1130\u001b[0m     \u001b[38;5;28mself\u001b[39m,\n\u001b[1;32m   1131\u001b[0m     name_to_tool_map: Dict[\u001b[38;5;28mstr\u001b[39m, BaseTool],\n\u001b[0;32m   (...)\u001b[0m\n\u001b[1;32m   1135\u001b[0m     run_manager: Optional[CallbackManagerForChainRun] \u001b[38;5;241m=\u001b[39m \u001b[38;5;28;01mNone\u001b[39;00m,\n\u001b[1;32m   1136\u001b[0m ) \u001b[38;5;241m-\u001b[39m\u001b[38;5;241m>\u001b[39m Union[AgentFinish, List[Tuple[AgentAction, \u001b[38;5;28mstr\u001b[39m]]]:\n\u001b[1;32m   1137\u001b[0m     \u001b[38;5;28;01mreturn\u001b[39;00m \u001b[38;5;28mself\u001b[39m\u001b[38;5;241m.\u001b[39m_consume_next_step(\n\u001b[0;32m-> 1138\u001b[0m         [\n\u001b[1;32m   1139\u001b[0m             a\n\u001b[1;32m   1140\u001b[0m             \u001b[38;5;28;01mfor\u001b[39;00m a \u001b[38;5;129;01min\u001b[39;00m \u001b[38;5;28mself\u001b[39m\u001b[38;5;241m.\u001b[39m_iter_next_step(\n\u001b[1;32m   1141\u001b[0m                 name_to_tool_map,\n\u001b[1;32m   1142\u001b[0m                 color_mapping,\n\u001b[1;32m   1143\u001b[0m                 inputs,\n\u001b[1;32m   1144\u001b[0m                 intermediate_steps,\n\u001b[1;32m   1145\u001b[0m                 run_manager,\n\u001b[1;32m   1146\u001b[0m             )\n\u001b[1;32m   1147\u001b[0m         ]\n\u001b[1;32m   1148\u001b[0m     )\n",
      "File \u001b[0;32m~/miniconda3/envs/env_genai_agent/lib/python3.10/site-packages/langchain/agents/agent.py:1138\u001b[0m, in \u001b[0;36m<listcomp>\u001b[0;34m(.0)\u001b[0m\n\u001b[1;32m   1129\u001b[0m \u001b[38;5;28;01mdef\u001b[39;00m \u001b[38;5;21m_take_next_step\u001b[39m(\n\u001b[1;32m   1130\u001b[0m     \u001b[38;5;28mself\u001b[39m,\n\u001b[1;32m   1131\u001b[0m     name_to_tool_map: Dict[\u001b[38;5;28mstr\u001b[39m, BaseTool],\n\u001b[0;32m   (...)\u001b[0m\n\u001b[1;32m   1135\u001b[0m     run_manager: Optional[CallbackManagerForChainRun] \u001b[38;5;241m=\u001b[39m \u001b[38;5;28;01mNone\u001b[39;00m,\n\u001b[1;32m   1136\u001b[0m ) \u001b[38;5;241m-\u001b[39m\u001b[38;5;241m>\u001b[39m Union[AgentFinish, List[Tuple[AgentAction, \u001b[38;5;28mstr\u001b[39m]]]:\n\u001b[1;32m   1137\u001b[0m     \u001b[38;5;28;01mreturn\u001b[39;00m \u001b[38;5;28mself\u001b[39m\u001b[38;5;241m.\u001b[39m_consume_next_step(\n\u001b[0;32m-> 1138\u001b[0m         [\n\u001b[1;32m   1139\u001b[0m             a\n\u001b[1;32m   1140\u001b[0m             \u001b[38;5;28;01mfor\u001b[39;00m a \u001b[38;5;129;01min\u001b[39;00m \u001b[38;5;28mself\u001b[39m\u001b[38;5;241m.\u001b[39m_iter_next_step(\n\u001b[1;32m   1141\u001b[0m                 name_to_tool_map,\n\u001b[1;32m   1142\u001b[0m                 color_mapping,\n\u001b[1;32m   1143\u001b[0m                 inputs,\n\u001b[1;32m   1144\u001b[0m                 intermediate_steps,\n\u001b[1;32m   1145\u001b[0m                 run_manager,\n\u001b[1;32m   1146\u001b[0m             )\n\u001b[1;32m   1147\u001b[0m         ]\n\u001b[1;32m   1148\u001b[0m     )\n",
      "File \u001b[0;32m~/miniconda3/envs/env_genai_agent/lib/python3.10/site-packages/langchain/agents/agent.py:1223\u001b[0m, in \u001b[0;36mAgentExecutor._iter_next_step\u001b[0;34m(self, name_to_tool_map, color_mapping, inputs, intermediate_steps, run_manager)\u001b[0m\n\u001b[1;32m   1221\u001b[0m     \u001b[38;5;28;01myield\u001b[39;00m agent_action\n\u001b[1;32m   1222\u001b[0m \u001b[38;5;28;01mfor\u001b[39;00m agent_action \u001b[38;5;129;01min\u001b[39;00m actions:\n\u001b[0;32m-> 1223\u001b[0m     \u001b[38;5;28;01myield\u001b[39;00m \u001b[38;5;28;43mself\u001b[39;49m\u001b[38;5;241;43m.\u001b[39;49m\u001b[43m_perform_agent_action\u001b[49m\u001b[43m(\u001b[49m\n\u001b[1;32m   1224\u001b[0m \u001b[43m        \u001b[49m\u001b[43mname_to_tool_map\u001b[49m\u001b[43m,\u001b[49m\u001b[43m \u001b[49m\u001b[43mcolor_mapping\u001b[49m\u001b[43m,\u001b[49m\u001b[43m \u001b[49m\u001b[43magent_action\u001b[49m\u001b[43m,\u001b[49m\u001b[43m \u001b[49m\u001b[43mrun_manager\u001b[49m\n\u001b[1;32m   1225\u001b[0m \u001b[43m    \u001b[49m\u001b[43m)\u001b[49m\n",
      "File \u001b[0;32m~/miniconda3/envs/env_genai_agent/lib/python3.10/site-packages/langchain/agents/agent.py:1245\u001b[0m, in \u001b[0;36mAgentExecutor._perform_agent_action\u001b[0;34m(self, name_to_tool_map, color_mapping, agent_action, run_manager)\u001b[0m\n\u001b[1;32m   1243\u001b[0m         tool_run_kwargs[\u001b[38;5;124m\"\u001b[39m\u001b[38;5;124mllm_prefix\u001b[39m\u001b[38;5;124m\"\u001b[39m] \u001b[38;5;241m=\u001b[39m \u001b[38;5;124m\"\u001b[39m\u001b[38;5;124m\"\u001b[39m\n\u001b[1;32m   1244\u001b[0m     \u001b[38;5;66;03m# We then call the tool on the tool input to get an observation\u001b[39;00m\n\u001b[0;32m-> 1245\u001b[0m     observation \u001b[38;5;241m=\u001b[39m \u001b[43mtool\u001b[49m\u001b[38;5;241;43m.\u001b[39;49m\u001b[43mrun\u001b[49m\u001b[43m(\u001b[49m\n\u001b[1;32m   1246\u001b[0m \u001b[43m        \u001b[49m\u001b[43magent_action\u001b[49m\u001b[38;5;241;43m.\u001b[39;49m\u001b[43mtool_input\u001b[49m\u001b[43m,\u001b[49m\n\u001b[1;32m   1247\u001b[0m \u001b[43m        \u001b[49m\u001b[43mverbose\u001b[49m\u001b[38;5;241;43m=\u001b[39;49m\u001b[38;5;28;43mself\u001b[39;49m\u001b[38;5;241;43m.\u001b[39;49m\u001b[43mverbose\u001b[49m\u001b[43m,\u001b[49m\n\u001b[1;32m   1248\u001b[0m \u001b[43m        \u001b[49m\u001b[43mcolor\u001b[49m\u001b[38;5;241;43m=\u001b[39;49m\u001b[43mcolor\u001b[49m\u001b[43m,\u001b[49m\n\u001b[1;32m   1249\u001b[0m \u001b[43m        \u001b[49m\u001b[43mcallbacks\u001b[49m\u001b[38;5;241;43m=\u001b[39;49m\u001b[43mrun_manager\u001b[49m\u001b[38;5;241;43m.\u001b[39;49m\u001b[43mget_child\u001b[49m\u001b[43m(\u001b[49m\u001b[43m)\u001b[49m\u001b[43m \u001b[49m\u001b[38;5;28;43;01mif\u001b[39;49;00m\u001b[43m \u001b[49m\u001b[43mrun_manager\u001b[49m\u001b[43m \u001b[49m\u001b[38;5;28;43;01melse\u001b[39;49;00m\u001b[43m \u001b[49m\u001b[38;5;28;43;01mNone\u001b[39;49;00m\u001b[43m,\u001b[49m\n\u001b[1;32m   1250\u001b[0m \u001b[43m        \u001b[49m\u001b[38;5;241;43m*\u001b[39;49m\u001b[38;5;241;43m*\u001b[39;49m\u001b[43mtool_run_kwargs\u001b[49m\u001b[43m,\u001b[49m\n\u001b[1;32m   1251\u001b[0m \u001b[43m    \u001b[49m\u001b[43m)\u001b[49m\n\u001b[1;32m   1252\u001b[0m \u001b[38;5;28;01melse\u001b[39;00m:\n\u001b[1;32m   1253\u001b[0m     tool_run_kwargs \u001b[38;5;241m=\u001b[39m \u001b[38;5;28mself\u001b[39m\u001b[38;5;241m.\u001b[39magent\u001b[38;5;241m.\u001b[39mtool_run_logging_kwargs()\n",
      "File \u001b[0;32m~/miniconda3/envs/env_genai_agent/lib/python3.10/site-packages/langchain_core/tools.py:452\u001b[0m, in \u001b[0;36mBaseTool.run\u001b[0;34m(self, tool_input, verbose, start_color, color, callbacks, tags, metadata, run_name, run_id, config, **kwargs)\u001b[0m\n\u001b[1;32m    450\u001b[0m \u001b[38;5;28;01mexcept\u001b[39;00m (\u001b[38;5;167;01mException\u001b[39;00m, \u001b[38;5;167;01mKeyboardInterrupt\u001b[39;00m) \u001b[38;5;28;01mas\u001b[39;00m e:\n\u001b[1;32m    451\u001b[0m     run_manager\u001b[38;5;241m.\u001b[39mon_tool_error(e)\n\u001b[0;32m--> 452\u001b[0m     \u001b[38;5;28;01mraise\u001b[39;00m e\n\u001b[1;32m    453\u001b[0m \u001b[38;5;28;01melse\u001b[39;00m:\n\u001b[1;32m    454\u001b[0m     run_manager\u001b[38;5;241m.\u001b[39mon_tool_end(observation, color\u001b[38;5;241m=\u001b[39mcolor, name\u001b[38;5;241m=\u001b[39m\u001b[38;5;28mself\u001b[39m\u001b[38;5;241m.\u001b[39mname, \u001b[38;5;241m*\u001b[39m\u001b[38;5;241m*\u001b[39mkwargs)\n",
      "File \u001b[0;32m~/miniconda3/envs/env_genai_agent/lib/python3.10/site-packages/langchain_core/tools.py:409\u001b[0m, in \u001b[0;36mBaseTool.run\u001b[0;34m(self, tool_input, verbose, start_color, color, callbacks, tags, metadata, run_name, run_id, config, **kwargs)\u001b[0m\n\u001b[1;32m    406\u001b[0m     parsed_input \u001b[38;5;241m=\u001b[39m \u001b[38;5;28mself\u001b[39m\u001b[38;5;241m.\u001b[39m_parse_input(tool_input)\n\u001b[1;32m    407\u001b[0m     tool_args, tool_kwargs \u001b[38;5;241m=\u001b[39m \u001b[38;5;28mself\u001b[39m\u001b[38;5;241m.\u001b[39m_to_args_and_kwargs(parsed_input)\n\u001b[1;32m    408\u001b[0m     observation \u001b[38;5;241m=\u001b[39m (\n\u001b[0;32m--> 409\u001b[0m         \u001b[43mcontext\u001b[49m\u001b[38;5;241;43m.\u001b[39;49m\u001b[43mrun\u001b[49m\u001b[43m(\u001b[49m\n\u001b[1;32m    410\u001b[0m \u001b[43m            \u001b[49m\u001b[38;5;28;43mself\u001b[39;49m\u001b[38;5;241;43m.\u001b[39;49m\u001b[43m_run\u001b[49m\u001b[43m,\u001b[49m\u001b[43m \u001b[49m\u001b[38;5;241;43m*\u001b[39;49m\u001b[43mtool_args\u001b[49m\u001b[43m,\u001b[49m\u001b[43m \u001b[49m\u001b[43mrun_manager\u001b[49m\u001b[38;5;241;43m=\u001b[39;49m\u001b[43mrun_manager\u001b[49m\u001b[43m,\u001b[49m\u001b[43m \u001b[49m\u001b[38;5;241;43m*\u001b[39;49m\u001b[38;5;241;43m*\u001b[39;49m\u001b[43mtool_kwargs\u001b[49m\n\u001b[1;32m    411\u001b[0m \u001b[43m        \u001b[49m\u001b[43m)\u001b[49m\n\u001b[1;32m    412\u001b[0m         \u001b[38;5;28;01mif\u001b[39;00m new_arg_supported\n\u001b[1;32m    413\u001b[0m         \u001b[38;5;28;01melse\u001b[39;00m context\u001b[38;5;241m.\u001b[39mrun(\u001b[38;5;28mself\u001b[39m\u001b[38;5;241m.\u001b[39m_run, \u001b[38;5;241m*\u001b[39mtool_args, \u001b[38;5;241m*\u001b[39m\u001b[38;5;241m*\u001b[39mtool_kwargs)\n\u001b[1;32m    414\u001b[0m     )\n\u001b[1;32m    415\u001b[0m \u001b[38;5;28;01mexcept\u001b[39;00m ValidationError \u001b[38;5;28;01mas\u001b[39;00m e:\n\u001b[1;32m    416\u001b[0m     \u001b[38;5;28;01mif\u001b[39;00m \u001b[38;5;129;01mnot\u001b[39;00m \u001b[38;5;28mself\u001b[39m\u001b[38;5;241m.\u001b[39mhandle_validation_error:\n",
      "File \u001b[0;32m~/miniconda3/envs/env_genai_agent/lib/python3.10/site-packages/langchain_core/tools.py:750\u001b[0m, in \u001b[0;36mStructuredTool._run\u001b[0;34m(self, run_manager, *args, **kwargs)\u001b[0m\n\u001b[1;32m    741\u001b[0m \u001b[38;5;28;01mif\u001b[39;00m \u001b[38;5;28mself\u001b[39m\u001b[38;5;241m.\u001b[39mfunc:\n\u001b[1;32m    742\u001b[0m     new_argument_supported \u001b[38;5;241m=\u001b[39m signature(\u001b[38;5;28mself\u001b[39m\u001b[38;5;241m.\u001b[39mfunc)\u001b[38;5;241m.\u001b[39mparameters\u001b[38;5;241m.\u001b[39mget(\u001b[38;5;124m\"\u001b[39m\u001b[38;5;124mcallbacks\u001b[39m\u001b[38;5;124m\"\u001b[39m)\n\u001b[1;32m    743\u001b[0m     \u001b[38;5;28;01mreturn\u001b[39;00m (\n\u001b[1;32m    744\u001b[0m         \u001b[38;5;28mself\u001b[39m\u001b[38;5;241m.\u001b[39mfunc(\n\u001b[1;32m    745\u001b[0m             \u001b[38;5;241m*\u001b[39margs,\n\u001b[1;32m    746\u001b[0m             callbacks\u001b[38;5;241m=\u001b[39mrun_manager\u001b[38;5;241m.\u001b[39mget_child() \u001b[38;5;28;01mif\u001b[39;00m run_manager \u001b[38;5;28;01melse\u001b[39;00m \u001b[38;5;28;01mNone\u001b[39;00m,\n\u001b[1;32m    747\u001b[0m             \u001b[38;5;241m*\u001b[39m\u001b[38;5;241m*\u001b[39mkwargs,\n\u001b[1;32m    748\u001b[0m         )\n\u001b[1;32m    749\u001b[0m         \u001b[38;5;28;01mif\u001b[39;00m new_argument_supported\n\u001b[0;32m--> 750\u001b[0m         \u001b[38;5;28;01melse\u001b[39;00m \u001b[38;5;28;43mself\u001b[39;49m\u001b[38;5;241;43m.\u001b[39;49m\u001b[43mfunc\u001b[49m\u001b[43m(\u001b[49m\u001b[38;5;241;43m*\u001b[39;49m\u001b[43margs\u001b[49m\u001b[43m,\u001b[49m\u001b[43m \u001b[49m\u001b[38;5;241;43m*\u001b[39;49m\u001b[38;5;241;43m*\u001b[39;49m\u001b[43mkwargs\u001b[49m\u001b[43m)\u001b[49m\n\u001b[1;32m    751\u001b[0m     )\n\u001b[1;32m    752\u001b[0m \u001b[38;5;28;01mraise\u001b[39;00m \u001b[38;5;167;01mNotImplementedError\u001b[39;00m(\u001b[38;5;124m\"\u001b[39m\u001b[38;5;124mTool does not support sync\u001b[39m\u001b[38;5;124m\"\u001b[39m)\n",
      "Cell \u001b[0;32mIn[28], line 21\u001b[0m, in \u001b[0;36mnote_tool\u001b[0;34m(note)\u001b[0m\n\u001b[1;32m     18\u001b[0m dir_path \u001b[38;5;241m=\u001b[39m \u001b[38;5;124m\"\u001b[39m\u001b[38;5;124m/Users/sjr11/Work/SelfLearning/GenAI Coding Agent/data/processed/notes.txt\u001b[39m\u001b[38;5;124m\"\u001b[39m\n\u001b[1;32m     19\u001b[0m file_path \u001b[38;5;241m=\u001b[39m os\u001b[38;5;241m.\u001b[39mpath\u001b[38;5;241m.\u001b[39mjoin(dir_path, filename)\n\u001b[0;32m---> 21\u001b[0m \u001b[38;5;28;01mwith\u001b[39;00m \u001b[38;5;28;43mopen\u001b[39;49m\u001b[43m(\u001b[49m\u001b[43mfile_path\u001b[49m\u001b[43m,\u001b[49m\u001b[43m \u001b[49m\u001b[38;5;124;43m\"\u001b[39;49m\u001b[38;5;124;43mw\u001b[39;49m\u001b[38;5;124;43m\"\u001b[39;49m\u001b[43m)\u001b[49m \u001b[38;5;28;01mas\u001b[39;00m f:\n\u001b[1;32m     22\u001b[0m     f\u001b[38;5;241m.\u001b[39mwrite(\u001b[38;5;124mf\u001b[39m\u001b[38;5;124m\"\u001b[39m\u001b[38;5;132;01m{\u001b[39;00mnote\u001b[38;5;132;01m}\u001b[39;00m\u001b[38;5;130;01m\\n\u001b[39;00m\u001b[38;5;124m\"\u001b[39m)\n\u001b[1;32m     23\u001b[0m     logging\u001b[38;5;241m.\u001b[39minfo(\u001b[38;5;124mf\u001b[39m\u001b[38;5;124m\"\u001b[39m\u001b[38;5;124mSaved note to \u001b[39m\u001b[38;5;132;01m{\u001b[39;00mfile_path\u001b[38;5;132;01m}\u001b[39;00m\u001b[38;5;124m\"\u001b[39m)\n",
      "File \u001b[0;32m~/miniconda3/envs/env_genai_agent/lib/python3.10/site-packages/IPython/core/interactiveshell.py:324\u001b[0m, in \u001b[0;36m_modified_open\u001b[0;34m(file, *args, **kwargs)\u001b[0m\n\u001b[1;32m    317\u001b[0m \u001b[38;5;28;01mif\u001b[39;00m file \u001b[38;5;129;01min\u001b[39;00m {\u001b[38;5;241m0\u001b[39m, \u001b[38;5;241m1\u001b[39m, \u001b[38;5;241m2\u001b[39m}:\n\u001b[1;32m    318\u001b[0m     \u001b[38;5;28;01mraise\u001b[39;00m \u001b[38;5;167;01mValueError\u001b[39;00m(\n\u001b[1;32m    319\u001b[0m         \u001b[38;5;124mf\u001b[39m\u001b[38;5;124m\"\u001b[39m\u001b[38;5;124mIPython won\u001b[39m\u001b[38;5;124m'\u001b[39m\u001b[38;5;124mt let you open fd=\u001b[39m\u001b[38;5;132;01m{\u001b[39;00mfile\u001b[38;5;132;01m}\u001b[39;00m\u001b[38;5;124m by default \u001b[39m\u001b[38;5;124m\"\u001b[39m\n\u001b[1;32m    320\u001b[0m         \u001b[38;5;124m\"\u001b[39m\u001b[38;5;124mas it is likely to crash IPython. If you know what you are doing, \u001b[39m\u001b[38;5;124m\"\u001b[39m\n\u001b[1;32m    321\u001b[0m         \u001b[38;5;124m\"\u001b[39m\u001b[38;5;124myou can use builtins\u001b[39m\u001b[38;5;124m'\u001b[39m\u001b[38;5;124m open.\u001b[39m\u001b[38;5;124m\"\u001b[39m\n\u001b[1;32m    322\u001b[0m     )\n\u001b[0;32m--> 324\u001b[0m \u001b[38;5;28;01mreturn\u001b[39;00m \u001b[43mio_open\u001b[49m\u001b[43m(\u001b[49m\u001b[43mfile\u001b[49m\u001b[43m,\u001b[49m\u001b[43m \u001b[49m\u001b[38;5;241;43m*\u001b[39;49m\u001b[43margs\u001b[49m\u001b[43m,\u001b[49m\u001b[43m \u001b[49m\u001b[38;5;241;43m*\u001b[39;49m\u001b[38;5;241;43m*\u001b[39;49m\u001b[43mkwargs\u001b[49m\u001b[43m)\u001b[49m\n",
      "\u001b[0;31mNotADirectoryError\u001b[0m: [Errno 20] Not a directory: '/Users/sjr11/Work/SelfLearning/GenAI Coding Agent/data/processed/notes.txt/note_20240824_220537.txt'"
     ]
    }
   ],
   "source": [
    "# note making tool\n",
    "\n",
    "from langchain_core.tools import tool\n",
    "import datetime\n",
    "from datetime import datetime\n",
    "import logging\n",
    "\n",
    "@tool\n",
    "def note_tool(note):\n",
    "    \"\"\"\n",
    "    A tool that allows users to save a note.\n",
    "    Args:\n",
    "        note (str): The note to save.\n",
    "    \"\"\"\n",
    "    # Generate a unique filename based on the current timestamp\n",
    "    timestamp = datetime.now().strftime(\"%Y%m%d_%H%M%S\")\n",
    "    filename = f\"note_{timestamp}.txt\"\n",
    "    dir_path = \"/Users/sjr11/Work/SelfLearning/GenAI Coding Agent/data/processed/\"\n",
    "    file_path = os.path.join(dir_path, filename)\n",
    "    \n",
    "    with open(file_path, \"w\") as f:\n",
    "        f.write(f\"{note}\\n\")\n",
    "        logging.info(f\"Saved note to {file_path}\")\n",
    "        \n",
    "# add to the tools list\n",
    "tools = [retriever_tool, note_tool]\n",
    "agent = create_tool_calling_agent(llm, tools, prompt)\n",
    "agent_executor = AgentExecutor(agent=agent, tools=tools, verbose=True)\n",
    "\n",
    "# use the agent executor in a loop to ask questions\n",
    "\n",
    "test_question = \"Find issues related to sql alchemy, summarise them and make a note of them\"\n",
    "test_result = agent_executor.invoke({\"input\":test_question})\n",
    "print(test_result[\"output\"])\n",
    "    \n",
    "    "
   ]
  },
  {
   "cell_type": "code",
   "execution_count": null,
   "metadata": {},
   "outputs": [],
   "source": []
  }
 ],
 "metadata": {
  "kernelspec": {
   "display_name": "env_genai_agent",
   "language": "python",
   "name": "python3"
  },
  "language_info": {
   "codemirror_mode": {
    "name": "ipython",
    "version": 3
   },
   "file_extension": ".py",
   "mimetype": "text/x-python",
   "name": "python",
   "nbconvert_exporter": "python",
   "pygments_lexer": "ipython3",
   "version": "3.10.14"
  }
 },
 "nbformat": 4,
 "nbformat_minor": 2
}
